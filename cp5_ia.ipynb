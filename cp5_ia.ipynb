{
  "nbformat": 4,
  "nbformat_minor": 0,
  "metadata": {
    "colab": {
      "provenance": [],
      "mount_file_id": "1AoADIY-dL92-I1VKAHnwTwBA9ZBL6Gnh",
      "authorship_tag": "ABX9TyNH7v/9hbojWH6HQOj3rJc5",
      "include_colab_link": true
    },
    "kernelspec": {
      "name": "python3",
      "display_name": "Python 3"
    },
    "language_info": {
      "name": "python"
    }
  },
  "cells": [
    {
      "cell_type": "markdown",
      "metadata": {
        "id": "view-in-github",
        "colab_type": "text"
      },
      "source": [
        "<a href=\"https://colab.research.google.com/github/annaclrl/cp5-ia/blob/main/cp5_ia.ipynb\" target=\"_parent\"><img src=\"https://colab.research.google.com/assets/colab-badge.svg\" alt=\"Open In Colab\"/></a>"
      ]
    },
    {
      "cell_type": "markdown",
      "source": [
        "# ***Importando bibliotecas***"
      ],
      "metadata": {
        "id": "pmlj0t4wcrap"
      }
    },
    {
      "cell_type": "code",
      "source": [
        "import pandas as pd\n",
        "import numpy as np\n",
        "import matplotlib.pyplot as plt\n",
        "import seaborn as sns\n",
        "from sklearn.model_selection import train_test_split\n",
        "from sklearn.preprocessing import StandardScaler, LabelEncoder\n",
        "from sklearn.linear_model import LogisticRegression\n",
        "from sklearn.discriminant_analysis import LinearDiscriminantAnalysis\n",
        "from sklearn.naive_bayes import GaussianNB\n",
        "from sklearn.neighbors import KNeighborsClassifier\n",
        "from sklearn.svm import SVC\n",
        "from sklearn.tree import DecisionTreeClassifier\n",
        "from sklearn.ensemble import RandomForestClassifier\n",
        "from sklearn.metrics import accuracy_score, precision_score, recall_score, f1_score, confusion_matrix, classification_report\n",
        "from sklearn.model_selection import cross_val_score\n",
        "import warnings\n",
        "warnings.filterwarnings('ignore')\n"
      ],
      "metadata": {
        "id": "Pd1bHxjF0WPs"
      },
      "execution_count": null,
      "outputs": []
    },
    {
      "cell_type": "code",
      "source": [
        "# Configurações de visualização\n",
        "plt.style.use('seaborn-v0_8') # aqui escolhemos um \"tema\" moderno para os gráficos\n",
        "sns.set_palette(\"husl\")  # e aqui as cores harmoniosas e distintas"
      ],
      "metadata": {
        "id": "aVL4I5H1573j"
      },
      "execution_count": null,
      "outputs": []
    },
    {
      "cell_type": "markdown",
      "source": [
        "##Definição do problema\n",
        "\n",
        "\n",
        "*  **Objetivo de Classificação:** Classificação binária para diagnóstico de câncer\n",
        "de mama\n",
        "\n",
        "    Classe 0: Benigno (B)\n",
        "\n",
        "    Classe 1: Maligno (M)\n",
        "\n",
        "\n",
        "*   **Justificativa da Escolha:** O diagnóstico precoce do câncer de mama é crucial para o tratamento eficaz. Um modelo de IA pode auxiliar profissionais de saúde na identificação de padrões complexos nos dados, potencialmente melhorando a precisão diagnóstica\n",
        "\n"
      ],
      "metadata": {
        "id": "5OstxIptcwIe"
      }
    },
    {
      "cell_type": "markdown",
      "source": [
        "##Descrição do Dataset\n",
        "\n",
        "\n",
        "*   Origem: Kaggle – Breast Cancer Wisconsin (Diagnostic) Dataset\n",
        "*   Quantidade: 569 registros × 32 colunas\n",
        "*   Variáveis: 32 variáveis (incluindo ID e diagnóstico). Características incluem raio, textura, perímetro, área, suavidade, compactação, concavidade, etc.\n",
        "\n",
        "\n",
        "\n",
        "\n"
      ],
      "metadata": {
        "id": "itvih2Bn4dJr"
      }
    },
    {
      "cell_type": "code",
      "source": [
        "# Carregamento e exploração inicial do dataset\n",
        "df = pd.read_csv('/content/data.csv')"
      ],
      "metadata": {
        "id": "4iy0PLvb5Roe"
      },
      "execution_count": null,
      "outputs": []
    },
    {
      "cell_type": "code",
      "source": [
        "print(\"=== INFORMAÇÕES GERAIS DO DATASET ===\")\n",
        "print(f\"Forma do dataset: {df.shape}\")\n",
        "print(f\"\\nQuantidade de linhas: {df.shape[0]}\")\n",
        "print(f\"Quantidade de colunas: {df.shape[1]}\")\n",
        "print(f\"\\nPrimeiras 5 linhas:\")\n",
        "print(df.head())"
      ],
      "metadata": {
        "colab": {
          "base_uri": "https://localhost:8080/"
        },
        "id": "YLY4wgEL5Xix",
        "outputId": "e7b2b682-c70c-4f28-8cbc-d8afa254446a"
      },
      "execution_count": null,
      "outputs": [
        {
          "output_type": "stream",
          "name": "stdout",
          "text": [
            "=== INFORMAÇÕES GERAIS DO DATASET ===\n",
            "Forma do dataset: (569, 33)\n",
            "\n",
            "Quantidade de linhas: 569\n",
            "Quantidade de colunas: 33\n",
            "\n",
            "Primeiras 5 linhas:\n",
            "         id diagnosis  radius_mean  texture_mean  perimeter_mean  area_mean  \\\n",
            "0    842302         M        17.99         10.38          122.80     1001.0   \n",
            "1    842517         M        20.57         17.77          132.90     1326.0   \n",
            "2  84300903         M        19.69         21.25          130.00     1203.0   \n",
            "3  84348301         M        11.42         20.38           77.58      386.1   \n",
            "4  84358402         M        20.29         14.34          135.10     1297.0   \n",
            "\n",
            "   smoothness_mean  compactness_mean  concavity_mean  concave points_mean  \\\n",
            "0          0.11840           0.27760          0.3001              0.14710   \n",
            "1          0.08474           0.07864          0.0869              0.07017   \n",
            "2          0.10960           0.15990          0.1974              0.12790   \n",
            "3          0.14250           0.28390          0.2414              0.10520   \n",
            "4          0.10030           0.13280          0.1980              0.10430   \n",
            "\n",
            "   ...  texture_worst  perimeter_worst  area_worst  smoothness_worst  \\\n",
            "0  ...          17.33           184.60      2019.0            0.1622   \n",
            "1  ...          23.41           158.80      1956.0            0.1238   \n",
            "2  ...          25.53           152.50      1709.0            0.1444   \n",
            "3  ...          26.50            98.87       567.7            0.2098   \n",
            "4  ...          16.67           152.20      1575.0            0.1374   \n",
            "\n",
            "   compactness_worst  concavity_worst  concave points_worst  symmetry_worst  \\\n",
            "0             0.6656           0.7119                0.2654          0.4601   \n",
            "1             0.1866           0.2416                0.1860          0.2750   \n",
            "2             0.4245           0.4504                0.2430          0.3613   \n",
            "3             0.8663           0.6869                0.2575          0.6638   \n",
            "4             0.2050           0.4000                0.1625          0.2364   \n",
            "\n",
            "   fractal_dimension_worst  Unnamed: 32  \n",
            "0                  0.11890          NaN  \n",
            "1                  0.08902          NaN  \n",
            "2                  0.08758          NaN  \n",
            "3                  0.17300          NaN  \n",
            "4                  0.07678          NaN  \n",
            "\n",
            "[5 rows x 33 columns]\n"
          ]
        }
      ]
    },
    {
      "cell_type": "code",
      "source": [
        "print(f\"\\nInformações sobre tipos de dados:\")\n",
        "print(df.info())"
      ],
      "metadata": {
        "colab": {
          "base_uri": "https://localhost:8080/"
        },
        "id": "HXqO0TwC5Y0b",
        "outputId": "e6fedbbe-1726-45e8-b700-ef1c92903ecd"
      },
      "execution_count": null,
      "outputs": [
        {
          "output_type": "stream",
          "name": "stdout",
          "text": [
            "\n",
            "Informações sobre tipos de dados:\n",
            "<class 'pandas.core.frame.DataFrame'>\n",
            "RangeIndex: 569 entries, 0 to 568\n",
            "Data columns (total 33 columns):\n",
            " #   Column                   Non-Null Count  Dtype  \n",
            "---  ------                   --------------  -----  \n",
            " 0   id                       569 non-null    int64  \n",
            " 1   diagnosis                569 non-null    object \n",
            " 2   radius_mean              569 non-null    float64\n",
            " 3   texture_mean             569 non-null    float64\n",
            " 4   perimeter_mean           569 non-null    float64\n",
            " 5   area_mean                569 non-null    float64\n",
            " 6   smoothness_mean          569 non-null    float64\n",
            " 7   compactness_mean         569 non-null    float64\n",
            " 8   concavity_mean           569 non-null    float64\n",
            " 9   concave points_mean      569 non-null    float64\n",
            " 10  symmetry_mean            569 non-null    float64\n",
            " 11  fractal_dimension_mean   569 non-null    float64\n",
            " 12  radius_se                569 non-null    float64\n",
            " 13  texture_se               569 non-null    float64\n",
            " 14  perimeter_se             569 non-null    float64\n",
            " 15  area_se                  569 non-null    float64\n",
            " 16  smoothness_se            569 non-null    float64\n",
            " 17  compactness_se           569 non-null    float64\n",
            " 18  concavity_se             569 non-null    float64\n",
            " 19  concave points_se        569 non-null    float64\n",
            " 20  symmetry_se              569 non-null    float64\n",
            " 21  fractal_dimension_se     569 non-null    float64\n",
            " 22  radius_worst             569 non-null    float64\n",
            " 23  texture_worst            569 non-null    float64\n",
            " 24  perimeter_worst          569 non-null    float64\n",
            " 25  area_worst               569 non-null    float64\n",
            " 26  smoothness_worst         569 non-null    float64\n",
            " 27  compactness_worst        569 non-null    float64\n",
            " 28  concavity_worst          569 non-null    float64\n",
            " 29  concave points_worst     569 non-null    float64\n",
            " 30  symmetry_worst           569 non-null    float64\n",
            " 31  fractal_dimension_worst  569 non-null    float64\n",
            " 32  Unnamed: 32              0 non-null      float64\n",
            "dtypes: float64(31), int64(1), object(1)\n",
            "memory usage: 146.8+ KB\n",
            "None\n"
          ]
        }
      ]
    },
    {
      "cell_type": "code",
      "source": [
        "print(f\"\\nEstatísticas descritivas:\")\n",
        "print(df.describe())"
      ],
      "metadata": {
        "colab": {
          "base_uri": "https://localhost:8080/"
        },
        "id": "o-I8XzhB5eM6",
        "outputId": "57458e55-57c9-438f-9457-0d02de5767a7"
      },
      "execution_count": null,
      "outputs": [
        {
          "output_type": "stream",
          "name": "stdout",
          "text": [
            "\n",
            "Estatísticas descritivas:\n",
            "                 id  radius_mean  texture_mean  perimeter_mean    area_mean  \\\n",
            "count  5.690000e+02   569.000000    569.000000      569.000000   569.000000   \n",
            "mean   3.037183e+07    14.127292     19.289649       91.969033   654.889104   \n",
            "std    1.250206e+08     3.524049      4.301036       24.298981   351.914129   \n",
            "min    8.670000e+03     6.981000      9.710000       43.790000   143.500000   \n",
            "25%    8.692180e+05    11.700000     16.170000       75.170000   420.300000   \n",
            "50%    9.060240e+05    13.370000     18.840000       86.240000   551.100000   \n",
            "75%    8.813129e+06    15.780000     21.800000      104.100000   782.700000   \n",
            "max    9.113205e+08    28.110000     39.280000      188.500000  2501.000000   \n",
            "\n",
            "       smoothness_mean  compactness_mean  concavity_mean  concave points_mean  \\\n",
            "count       569.000000        569.000000      569.000000           569.000000   \n",
            "mean          0.096360          0.104341        0.088799             0.048919   \n",
            "std           0.014064          0.052813        0.079720             0.038803   \n",
            "min           0.052630          0.019380        0.000000             0.000000   \n",
            "25%           0.086370          0.064920        0.029560             0.020310   \n",
            "50%           0.095870          0.092630        0.061540             0.033500   \n",
            "75%           0.105300          0.130400        0.130700             0.074000   \n",
            "max           0.163400          0.345400        0.426800             0.201200   \n",
            "\n",
            "       symmetry_mean  ...  texture_worst  perimeter_worst   area_worst  \\\n",
            "count     569.000000  ...     569.000000       569.000000   569.000000   \n",
            "mean        0.181162  ...      25.677223       107.261213   880.583128   \n",
            "std         0.027414  ...       6.146258        33.602542   569.356993   \n",
            "min         0.106000  ...      12.020000        50.410000   185.200000   \n",
            "25%         0.161900  ...      21.080000        84.110000   515.300000   \n",
            "50%         0.179200  ...      25.410000        97.660000   686.500000   \n",
            "75%         0.195700  ...      29.720000       125.400000  1084.000000   \n",
            "max         0.304000  ...      49.540000       251.200000  4254.000000   \n",
            "\n",
            "       smoothness_worst  compactness_worst  concavity_worst  \\\n",
            "count        569.000000         569.000000       569.000000   \n",
            "mean           0.132369           0.254265         0.272188   \n",
            "std            0.022832           0.157336         0.208624   \n",
            "min            0.071170           0.027290         0.000000   \n",
            "25%            0.116600           0.147200         0.114500   \n",
            "50%            0.131300           0.211900         0.226700   \n",
            "75%            0.146000           0.339100         0.382900   \n",
            "max            0.222600           1.058000         1.252000   \n",
            "\n",
            "       concave points_worst  symmetry_worst  fractal_dimension_worst  \\\n",
            "count            569.000000      569.000000               569.000000   \n",
            "mean               0.114606        0.290076                 0.083946   \n",
            "std                0.065732        0.061867                 0.018061   \n",
            "min                0.000000        0.156500                 0.055040   \n",
            "25%                0.064930        0.250400                 0.071460   \n",
            "50%                0.099930        0.282200                 0.080040   \n",
            "75%                0.161400        0.317900                 0.092080   \n",
            "max                0.291000        0.663800                 0.207500   \n",
            "\n",
            "       Unnamed: 32  \n",
            "count          0.0  \n",
            "mean           NaN  \n",
            "std            NaN  \n",
            "min            NaN  \n",
            "25%            NaN  \n",
            "50%            NaN  \n",
            "75%            NaN  \n",
            "max            NaN  \n",
            "\n",
            "[8 rows x 32 columns]\n"
          ]
        }
      ]
    },
    {
      "cell_type": "code",
      "source": [
        "print(f\"\\nDistribuição da variável alvo 'diagnosis':\")\n",
        "print(df['diagnosis'].value_counts())\n",
        "print(f\"Proporção: {df['diagnosis'].value_counts(normalize=True)}\")"
      ],
      "metadata": {
        "colab": {
          "base_uri": "https://localhost:8080/"
        },
        "id": "nSWurEV25gGj",
        "outputId": "07ab33d4-70a6-48b4-ea78-da8ce3190681"
      },
      "execution_count": null,
      "outputs": [
        {
          "output_type": "stream",
          "name": "stdout",
          "text": [
            "\n",
            "Distribuição da variável alvo 'diagnosis':\n",
            "diagnosis\n",
            "B    357\n",
            "M    212\n",
            "Name: count, dtype: int64\n",
            "Proporção: diagnosis\n",
            "B    0.627417\n",
            "M    0.372583\n",
            "Name: proportion, dtype: float64\n"
          ]
        }
      ]
    },
    {
      "cell_type": "code",
      "source": [
        "print(df.describe())"
      ],
      "metadata": {
        "colab": {
          "base_uri": "https://localhost:8080/"
        },
        "id": "JhAX1pfL5hn8",
        "outputId": "cbaf5d23-4cb1-412b-d0a7-fc561c49b523"
      },
      "execution_count": null,
      "outputs": [
        {
          "output_type": "stream",
          "name": "stdout",
          "text": [
            "                 id  radius_mean  texture_mean  perimeter_mean    area_mean  \\\n",
            "count  5.690000e+02   569.000000    569.000000      569.000000   569.000000   \n",
            "mean   3.037183e+07    14.127292     19.289649       91.969033   654.889104   \n",
            "std    1.250206e+08     3.524049      4.301036       24.298981   351.914129   \n",
            "min    8.670000e+03     6.981000      9.710000       43.790000   143.500000   \n",
            "25%    8.692180e+05    11.700000     16.170000       75.170000   420.300000   \n",
            "50%    9.060240e+05    13.370000     18.840000       86.240000   551.100000   \n",
            "75%    8.813129e+06    15.780000     21.800000      104.100000   782.700000   \n",
            "max    9.113205e+08    28.110000     39.280000      188.500000  2501.000000   \n",
            "\n",
            "       smoothness_mean  compactness_mean  concavity_mean  concave points_mean  \\\n",
            "count       569.000000        569.000000      569.000000           569.000000   \n",
            "mean          0.096360          0.104341        0.088799             0.048919   \n",
            "std           0.014064          0.052813        0.079720             0.038803   \n",
            "min           0.052630          0.019380        0.000000             0.000000   \n",
            "25%           0.086370          0.064920        0.029560             0.020310   \n",
            "50%           0.095870          0.092630        0.061540             0.033500   \n",
            "75%           0.105300          0.130400        0.130700             0.074000   \n",
            "max           0.163400          0.345400        0.426800             0.201200   \n",
            "\n",
            "       symmetry_mean  ...  texture_worst  perimeter_worst   area_worst  \\\n",
            "count     569.000000  ...     569.000000       569.000000   569.000000   \n",
            "mean        0.181162  ...      25.677223       107.261213   880.583128   \n",
            "std         0.027414  ...       6.146258        33.602542   569.356993   \n",
            "min         0.106000  ...      12.020000        50.410000   185.200000   \n",
            "25%         0.161900  ...      21.080000        84.110000   515.300000   \n",
            "50%         0.179200  ...      25.410000        97.660000   686.500000   \n",
            "75%         0.195700  ...      29.720000       125.400000  1084.000000   \n",
            "max         0.304000  ...      49.540000       251.200000  4254.000000   \n",
            "\n",
            "       smoothness_worst  compactness_worst  concavity_worst  \\\n",
            "count        569.000000         569.000000       569.000000   \n",
            "mean           0.132369           0.254265         0.272188   \n",
            "std            0.022832           0.157336         0.208624   \n",
            "min            0.071170           0.027290         0.000000   \n",
            "25%            0.116600           0.147200         0.114500   \n",
            "50%            0.131300           0.211900         0.226700   \n",
            "75%            0.146000           0.339100         0.382900   \n",
            "max            0.222600           1.058000         1.252000   \n",
            "\n",
            "       concave points_worst  symmetry_worst  fractal_dimension_worst  \\\n",
            "count            569.000000      569.000000               569.000000   \n",
            "mean               0.114606        0.290076                 0.083946   \n",
            "std                0.065732        0.061867                 0.018061   \n",
            "min                0.000000        0.156500                 0.055040   \n",
            "25%                0.064930        0.250400                 0.071460   \n",
            "50%                0.099930        0.282200                 0.080040   \n",
            "75%                0.161400        0.317900                 0.092080   \n",
            "max                0.291000        0.663800                 0.207500   \n",
            "\n",
            "       Unnamed: 32  \n",
            "count          0.0  \n",
            "mean           NaN  \n",
            "std            NaN  \n",
            "min            NaN  \n",
            "25%            NaN  \n",
            "50%            NaN  \n",
            "75%            NaN  \n",
            "max            NaN  \n",
            "\n",
            "[8 rows x 32 columns]\n"
          ]
        }
      ]
    },
    {
      "cell_type": "markdown",
      "source": [
        "###Resumo do que foi feito na parte de descrição do dataset\n",
        "\n",
        "- pd.read_csv(): lê o arquivo de dados como uma tabela\n",
        "\n",
        "- df.shape: mostra quantas linhas (pacientes) e colunas (informações)\n",
        "\n",
        "- df.head(): mostra as primeiras linhas para vermos como são os dados\n",
        "\n",
        "- df['diagnosis']: é nossa \"resposta\" - o que queremos prever\n",
        "\n"
      ],
      "metadata": {
        "id": "wu13FAmorjQk"
      }
    },
    {
      "cell_type": "markdown",
      "source": [
        "##Pré-processamento"
      ],
      "metadata": {
        "id": "rGqoAUkB4wRv"
      }
    },
    {
      "cell_type": "code",
      "source": [
        "# Verificação e tratamento de valores ausentes\n",
        "print(\"=== VERIFICAÇÃO DE VALORES AUSENTES ===\")\n",
        "print(df.isnull().sum())"
      ],
      "metadata": {
        "colab": {
          "base_uri": "https://localhost:8080/"
        },
        "id": "aGhd_S7KoGJu",
        "outputId": "5c44d6ab-89d0-4624-d7b5-b37c49f8f98e"
      },
      "execution_count": null,
      "outputs": [
        {
          "output_type": "stream",
          "name": "stdout",
          "text": [
            "=== VERIFICAÇÃO DE VALORES AUSENTES ===\n",
            "id                           0\n",
            "diagnosis                    0\n",
            "radius_mean                  0\n",
            "texture_mean                 0\n",
            "perimeter_mean               0\n",
            "area_mean                    0\n",
            "smoothness_mean              0\n",
            "compactness_mean             0\n",
            "concavity_mean               0\n",
            "concave points_mean          0\n",
            "symmetry_mean                0\n",
            "fractal_dimension_mean       0\n",
            "radius_se                    0\n",
            "texture_se                   0\n",
            "perimeter_se                 0\n",
            "area_se                      0\n",
            "smoothness_se                0\n",
            "compactness_se               0\n",
            "concavity_se                 0\n",
            "concave points_se            0\n",
            "symmetry_se                  0\n",
            "fractal_dimension_se         0\n",
            "radius_worst                 0\n",
            "texture_worst                0\n",
            "perimeter_worst              0\n",
            "area_worst                   0\n",
            "smoothness_worst             0\n",
            "compactness_worst            0\n",
            "concavity_worst              0\n",
            "concave points_worst         0\n",
            "symmetry_worst               0\n",
            "fractal_dimension_worst      0\n",
            "Unnamed: 32                569\n",
            "dtype: int64\n"
          ]
        }
      ]
    },
    {
      "cell_type": "code",
      "source": [
        "# Remover coluna 'Unnamed: 32' se existir (geralmente vazia)\n",
        "if 'Unnamed: 32' in df.columns:\n",
        "    df = df.drop('Unnamed: 32', axis=1)\n",
        "    print(\"Removida coluna vazia 'Unnamed: 32'\")"
      ],
      "metadata": {
        "id": "vMPEA-MMoI_7",
        "colab": {
          "base_uri": "https://localhost:8080/"
        },
        "outputId": "0dd5332c-4915-4072-b4d7-d16d51231a33"
      },
      "execution_count": null,
      "outputs": [
        {
          "output_type": "stream",
          "name": "stdout",
          "text": [
            "Removida coluna vazia 'Unnamed: 32'\n"
          ]
        }
      ]
    },
    {
      "cell_type": "code",
      "source": [
        "# Removendo 'id' - número do paciente não ajuda no diagnóstico\n",
        "df = df.drop('id', axis=1)"
      ],
      "metadata": {
        "id": "rHtXCt4LoLHP"
      },
      "execution_count": null,
      "outputs": []
    },
    {
      "cell_type": "code",
      "source": [
        "# Os diagnósticos estão como 'B' e 'M', mas computadores entendem números melhor\n",
        "le = LabelEncoder()\n",
        "df['diagnosis'] = le.fit_transform(df['diagnosis'])\n",
        "# Agora: 0 = Benigno (B), 1 = Maligno (M)\n",
        "\n",
        "print(f\"Diagnósticos após transformação: {df['diagnosis'].value_counts()}\")"
      ],
      "metadata": {
        "id": "ke63eAT-oPAH",
        "colab": {
          "base_uri": "https://localhost:8080/"
        },
        "outputId": "83f2677e-df37-4d63-8908-bea912d03d0e"
      },
      "execution_count": null,
      "outputs": [
        {
          "output_type": "stream",
          "name": "stdout",
          "text": [
            "Diagnósticos após transformação: diagnosis\n",
            "0    357\n",
            "1    212\n",
            "Name: count, dtype: int64\n"
          ]
        }
      ]
    },
    {
      "cell_type": "code",
      "source": [
        "#Separando que queremos prever\n",
        "X = df.drop('diagnosis', axis=1)  # todas as características dos tumores\n",
        "y = df['diagnosis']              # 0 diagnóstico (o que queremos prever)\n",
        "\n",
        "print(f\"Características: {X.shape[1]} tipos de medidas\")\n",
        "print(f\"Diagnósticos para prever: {len(y)}\")"
      ],
      "metadata": {
        "colab": {
          "base_uri": "https://localhost:8080/"
        },
        "id": "zmFkHDZuoRGp",
        "outputId": "db7de1a0-dc89-47bf-db6c-32f95aeef534"
      },
      "execution_count": null,
      "outputs": [
        {
          "output_type": "stream",
          "name": "stdout",
          "text": [
            "Características: 30 tipos de medidas\n",
            "Diagnósticos para prever: 569\n"
          ]
        }
      ]
    },
    {
      "cell_type": "code",
      "source": [
        "#Identificação de outilers usando o IQR\n",
        "print(\"\\nANÁLISE DE OUTLIERS:\")\n",
        "\n",
        "# definimos uma função para encontrar outliers usando o método IQR\n",
        "def encontrar_valores_extremos(dados):\n",
        "    extremos = {}  # dicionário para guardar o número de outliers por coluna\n",
        "    for coluna in dados.columns:  # para cada coluna nos nossos dados\n",
        "        # calcula o primeiro quartil (25%)\n",
        "        Q1 = dados[coluna].quantile(0.25)\n",
        "        # calcula o terceiro quartil (75%)\n",
        "        Q3 = dados[coluna].quantile(0.75)\n",
        "        # calcula o IQR (Intervalo Interquartil)\n",
        "        IQR = Q3 - Q1\n",
        "        # define os limites: valores abaixo do limite inferior ou acima do superior são outliers\n",
        "        limite_baixo = Q1 - 1.5 * IQR\n",
        "        limite_alto = Q3 + 1.5 * IQR\n",
        "        # conta quantos valores estão fora desses limites\n",
        "        extremos[coluna] = len(dados[(dados[coluna] < limite_baixo) | (dados[coluna] > limite_alto)])\n",
        "    return extremos\n",
        "\n",
        "# aplica a função aos nossos dados\n",
        "valores_extremos = encontrar_valores_extremos(X)\n",
        "\n",
        "# mostra os resultados para as primeiras 5 colunas\n",
        "print(\"Alguns valores extremos encontrados:\")\n",
        "for caracteristica, quantidade in list(valores_extremos.items())[:5]:\n",
        "    print(f\"  {caracteristica}: {quantidade} valores extremos\")"
      ],
      "metadata": {
        "colab": {
          "base_uri": "https://localhost:8080/"
        },
        "id": "_nTrrczZoXd3",
        "outputId": "04ffc63f-53a2-419a-e680-fc7a8d44f1b1"
      },
      "execution_count": null,
      "outputs": [
        {
          "output_type": "stream",
          "name": "stdout",
          "text": [
            "\n",
            "ANÁLISE DE OUTLIERS:\n",
            "Alguns valores extremos encontrados:\n",
            "  radius_mean: 14 valores extremos\n",
            "  texture_mean: 7 valores extremos\n",
            "  perimeter_mean: 13 valores extremos\n",
            "  area_mean: 25 valores extremos\n",
            "  smoothness_mean: 6 valores extremos\n"
          ]
        }
      ]
    },
    {
      "cell_type": "code",
      "source": [
        "#Padronizando as medidas\n",
        "print(\"\\nPADRONIZANDO AS MEDIDAS\")\n",
        "scaler = StandardScaler()\n",
        "X_padronizado = scaler.fit_transform(X)\n",
        "X_padronizado = pd.DataFrame(X_padronizado, columns=X.columns)\n",
        "\n",
        "print(\"Todas as medidas agora estão na mesma escala!\")\n",
        "print(f\"   Médias próximas de 0: {np.mean(X_padronizado, axis=0)[:3]}\")\n",
        "print(f\"   Desvios padrão próximos de 1: {np.std(X_padronizado, axis=0)[:3]}\")"
      ],
      "metadata": {
        "colab": {
          "base_uri": "https://localhost:8080/"
        },
        "id": "3xhXDt_KoaaY",
        "outputId": "aa2e046f-768b-4aed-a9fd-d5b42524b2b9"
      },
      "execution_count": null,
      "outputs": [
        {
          "output_type": "stream",
          "name": "stdout",
          "text": [
            "\n",
            "PADRONIZANDO AS MEDIDAS\n",
            "Todas as medidas agora estão na mesma escala!\n",
            "   Médias próximas de 0: radius_mean      -1.373633e-16\n",
            "texture_mean      6.868164e-17\n",
            "perimeter_mean   -1.248757e-16\n",
            "dtype: float64\n",
            "   Desvios padrão próximos de 1: radius_mean       1.0\n",
            "texture_mean      1.0\n",
            "perimeter_mean    1.0\n",
            "dtype: float64\n"
          ]
        }
      ]
    },
    {
      "cell_type": "markdown",
      "source": [
        "##Modelagem"
      ],
      "metadata": {
        "id": "21C3i8YxohLf"
      }
    },
    {
      "cell_type": "code",
      "source": [
        "#Dividindo nosso testes\n",
        "X_treino, X_teste, y_treino, y_teste = train_test_split(\n",
        "    X_padronizado, y, test_size=0.3, random_state=42, stratify=y\n",
        ")\n",
        "\n",
        "print(f\"Dados para TREINAR os modelos: {X_treino.shape[0]} pacientes\")\n",
        "print(f\"Dados para TESTAR os modelos: {X_teste.shape[0]} pacientes\")\n",
        "print(f\"Proporção mantida: {y_treino.value_counts(normalize=True)}\")\n"
      ],
      "metadata": {
        "colab": {
          "base_uri": "https://localhost:8080/"
        },
        "id": "pHlq8FxZonJI",
        "outputId": "9c7eb475-ea14-4fa0-9222-50db5989760c"
      },
      "execution_count": null,
      "outputs": [
        {
          "output_type": "stream",
          "name": "stdout",
          "text": [
            "Dados para TREINAR os modelos: 398 pacientes\n",
            "Dados para TESTAR os modelos: 171 pacientes\n",
            "Proporção mantida: diagnosis\n",
            "0    0.628141\n",
            "1    0.371859\n",
            "Name: proportion, dtype: float64\n"
          ]
        }
      ]
    },
    {
      "cell_type": "code",
      "source": [
        "# Lista de modelos a serem testados\n",
        "models = {\n",
        "    'Regressão Logística': LogisticRegression(random_state=42),\n",
        "    'LDA': LinearDiscriminantAnalysis(),\n",
        "    'Naive Bayes': GaussianNB(),\n",
        "    'KNN': KNeighborsClassifier(),\n",
        "    'SVM': SVC(random_state=42),\n",
        "    'Árvore de Decisão': DecisionTreeClassifier(random_state=42),\n",
        "    'Random Forest': RandomForestClassifier(random_state=42)\n",
        "}"
      ],
      "metadata": {
        "id": "-Ru8PJexorju"
      },
      "execution_count": null,
      "outputs": []
    },
    {
      "cell_type": "code",
      "source": [
        "#Para guardar os resultados\n",
        "resultados = {}"
      ],
      "metadata": {
        "id": "JeBIjosSuW1E"
      },
      "execution_count": null,
      "outputs": []
    },
    {
      "cell_type": "code",
      "source": [
        "print(\"TREINANDO NOSSOS MODELOS\")\n",
        "for nome, modelo in models.items():\n",
        "    print(f\"Treinando {nome}\")\n",
        "\n",
        "    # ENSINANDO o modelo com dados de treino\n",
        "    modelo.fit(X_treino, y_treino)\n",
        "\n",
        "    # TESTANDO o modelo com dados novos\n",
        "    previsoes = modelo.predict(X_teste)\n",
        "\n",
        "    # Calculando quâ bom ele foi\n",
        "    acuracia = accuracy_score(y_teste, previsoes)  # % de acertos totais\n",
        "    precisao = precision_score(y_teste, previsoes)  # Dos que disse ser câncer, quantos realmente eram?\n",
        "    recall = recall_score(y_teste, previsoes)       # Dos que tinham câncer, quantos identificou?\n",
        "    f1 = f1_score(y_teste, previsoes)              # Média balanceada entre precisão e recall\n",
        "\n",
        "    # Guardando os resultados\n",
        "    resultados[nome] = {\n",
        "        'modelo': modelo,\n",
        "        'acuracia': acuracia,\n",
        "        'precisao': precisao,\n",
        "        'recall': recall,\n",
        "        'f1': f1,\n",
        "        'previsoes': previsoes\n",
        "    }\n",
        "\n",
        "    print(f\"{nome}: {acuracia:.1%} de acerto\")"
      ],
      "metadata": {
        "colab": {
          "base_uri": "https://localhost:8080/"
        },
        "id": "omICWpmyouUO",
        "outputId": "988ace00-dbe4-4f89-e75a-86740dff5f6b"
      },
      "execution_count": null,
      "outputs": [
        {
          "output_type": "stream",
          "name": "stdout",
          "text": [
            "TREINANDO NOSSOS MODELOS\n",
            "Treinando Regressão Logística\n",
            "Regressão Logística: 97.1% de acerto\n",
            "Treinando LDA\n",
            "LDA: 97.7% de acerto\n",
            "Treinando Naive Bayes\n",
            "Naive Bayes: 93.6% de acerto\n",
            "Treinando KNN\n",
            "KNN: 96.5% de acerto\n",
            "Treinando SVM\n",
            "SVM: 96.5% de acerto\n",
            "Treinando Árvore de Decisão\n",
            "Árvore de Decisão: 90.1% de acerto\n",
            "Treinando Random Forest\n",
            "Random Forest: 96.5% de acerto\n"
          ]
        }
      ]
    },
    {
      "cell_type": "code",
      "source": [
        "# TESTE MAIS ROBUSTO: Validação Cruzada\n",
        "print(\"\\nFAZENDO UM TESTE MAIS CONFIÁVEL\")\n",
        "from sklearn.model_selection import cross_val_score\n",
        "\n",
        "melhores_modelos = ['Random Forest', 'SVM', 'Regressão Logística']\n",
        "for nome_modelo in melhores_modelos:\n",
        "    modelo = models[nome_modelo]\n",
        "    # divide os dados em 5 partes, treina em 4 e testa em 1, repetindo 5 vezes\n",
        "    scores_cv = cross_val_score(modelo, X_padronizado, y, cv=5, scoring='accuracy')\n",
        "    print(f\"{nome_modelo}: {scores_cv.mean():.1%} (±{scores_cv.std() * 2:.1%})\")"
      ],
      "metadata": {
        "colab": {
          "base_uri": "https://localhost:8080/"
        },
        "id": "mnDwGF4pow0_",
        "outputId": "c48a57be-5050-4a92-87c7-d05780b8b40a"
      },
      "execution_count": null,
      "outputs": [
        {
          "output_type": "stream",
          "name": "stdout",
          "text": [
            "\n",
            "FAZENDO UM TESTE MAIS CONFIÁVEL\n",
            "Random Forest: 95.4% (±4.3%)\n",
            "SVM: 97.4% (±2.9%)\n",
            "Regressão Logística: 98.1% (±1.3%)\n"
          ]
        }
      ]
    },
    {
      "cell_type": "markdown",
      "source": [
        "##Avaliação do modelo"
      ],
      "metadata": {
        "id": "tLZLjZ1Yo4Ak"
      }
    },
    {
      "cell_type": "code",
      "source": [
        "#FUNÇÃO PARA MOSTRAR A \"TABELA DE ACERTOS E ERROS\"\n",
        "def mostrar_matriz_confusao(valor_real, valor_previsto, nome_modelo):\n",
        "    \"\"\"\n",
        "    A Matriz de Confusão é como uma tabela que mostra:\n",
        "    - Quantos acertamos\n",
        "    - Quantos erramos\n",
        "    - Que tipos de erros cometemos\n",
        "    \"\"\"\n",
        "    cm = confusion_matrix(valor_real, valor_previsto)\n",
        "\n",
        "    plt.figure(figsize=(6, 5))\n",
        "    sns.heatmap(cm, annot=True, fmt='d', cmap='Blues',\n",
        "               xticklabels=['Benigno', 'Maligno'],\n",
        "               yticklabels=['Benigno', 'Maligno'])\n",
        "    plt.title(f'Matriz de Confusão - {nome_modelo}')\n",
        "    plt.ylabel('REAL: O que realmente era')\n",
        "    plt.xlabel('PREVISTO: O que o modelo achou')\n",
        "    plt.show()\n",
        "\n",
        "    # Explicando o que cada número significa\n",
        "    print(f\"\"\"\n",
        "    {nome_modelo} - O QUE SIGNIFICAM ESSES NÚMEROS:\n",
        "\n",
        "    ACERTOS:\n",
        "    • {cm[0,0]} vezes disse BENIGNO e era BENIGNO mesmo\n",
        "    • {cm[1,1]} vezes disse MALIGNO e era MALIGNO mesmo\n",
        "\n",
        "    ERROS:\n",
        "    • {cm[0,1]} vezes disse MALIGNO mas era BENIGNO (Falso Alarme)\n",
        "    • {cm[1,0]} vezes disse BENIGNO mas era MALIGNO (ERRO GRAVE!)\n",
        "\n",
        "    NO CONTEXTO MÉDICO:\n",
        "    • Falsos Alarmes ({cm[0,1]}): Paciente se assusta sem necessidade\n",
        "    • Erros Graves ({cm[1,0]}): Paciente com câncer pode não ser tratado a tempo\n",
        "    \"\"\")\n",
        "\n"
      ],
      "metadata": {
        "id": "-NhWgEj9o64K"
      },
      "execution_count": null,
      "outputs": []
    },
    {
      "cell_type": "code",
      "source": [
        "# COMPARAÇÃO DETALHADA: NOSSA \"TABELA DE CLASSIFICAÇÃO\"\n",
        "print(\"TABELA DE CLASSIFICAÇÃO DOS MODELOS:\")\n",
        "comparison_df = pd.DataFrame({\n",
        "    'Modelo': list(resultados.keys()),\n",
        "    'Acurácia': [resultados[model]['acuracia'] for model in resultados],\n",
        "    'Precisão': [resultados[model]['precisao'] for model in resultados],\n",
        "    'Recall': [resultados[model]['recall'] for model in resultados],\n",
        "    'F1-Score': [resultados[model]['f1'] for model in resultados]\n",
        "}).sort_values('Acurácia', ascending=False)\n",
        "\n",
        "print(comparison_df)\n",
        "\n",
        "print(\"\"\"\n",
        "  ENTENDENDO AS COLUNAS DA TABELA:\n",
        "\n",
        "• ACURÁCIA: \"Quantos % de todos os pacientes foram diagnosticados corretamente?\"\n",
        "  Exemplo: 95% = Em 100 pacientes, acertou 95\n",
        "\n",
        "• PRECISÃO: \"Quando ele diz 'é câncer', qual a chance de estar certo?\"\n",
        "  Exemplo: 97% = Quando diz \"é câncer\", está certo 97 vezes em 100\n",
        "\n",
        "• RECALL: \"Dos que realmente tinham câncer, quantos % ele encontrou?\"\n",
        "  Exemplo: 93% = Encontrou 93 em cada 100 casos de câncer\n",
        "\n",
        "• F1-SCORE: \"Nota geral que balanceia Precisão e Recall\"\n",
        "  Quanto mais perto de 1, melhor o equilíbrio\n",
        "\"\"\")\n"
      ],
      "metadata": {
        "colab": {
          "base_uri": "https://localhost:8080/"
        },
        "id": "lb5gxSA4o8s9",
        "outputId": "a676cf96-af35-4eab-8866-c212e2f507d7"
      },
      "execution_count": null,
      "outputs": [
        {
          "output_type": "stream",
          "name": "stdout",
          "text": [
            "TABELA DE CLASSIFICAÇÃO DOS MODELOS:\n",
            "                Modelo  Acurácia  Precisão   Recall  F1-Score\n",
            "1                  LDA  0.976608  1.000000  0.93750  0.967742\n",
            "0  Regressão Logística  0.970760  0.983607  0.93750  0.960000\n",
            "3                  KNN  0.964912  1.000000  0.90625  0.950820\n",
            "6        Random Forest  0.964912  1.000000  0.90625  0.950820\n",
            "4                  SVM  0.964912  1.000000  0.90625  0.950820\n",
            "2          Naive Bayes  0.935673  0.949153  0.87500  0.910569\n",
            "5    Árvore de Decisão  0.900585  0.885246  0.84375  0.864000\n",
            "\n",
            "  ENTENDENDO AS COLUNAS DA TABELA:\n",
            "\n",
            "• ACURÁCIA: \"Quantos % de todos os pacientes foram diagnosticados corretamente?\"\n",
            "  Exemplo: 95% = Em 100 pacientes, acertou 95\n",
            "\n",
            "• PRECISÃO: \"Quando ele diz 'é câncer', qual a chance de estar certo?\"\n",
            "  Exemplo: 97% = Quando diz \"é câncer\", está certo 97 vezes em 100\n",
            "\n",
            "• RECALL: \"Dos que realmente tinham câncer, quantos % ele encontrou?\"\n",
            "  Exemplo: 93% = Encontrou 93 em cada 100 casos de câncer\n",
            "\n",
            "• F1-SCORE: \"Nota geral que balanceia Precisão e Recall\"\n",
            "  Quanto mais perto de 1, melhor o equilíbrio\n",
            "\n"
          ]
        }
      ]
    },
    {
      "cell_type": "code",
      "source": [
        "# GRÁFICO COMPARATIVO - VISUALIZANDO OS RESULTADOS\n",
        "print(\"\\nCRIANDO UM GRÁFICO PARA VER MELHOR\")\n",
        "plt.figure(figsize=(12, 8))\n",
        "metrics_df = comparison_df.melt(id_vars='Modelo', var_name='Métrica', value_name='Valor')\n",
        "sns.barplot(data=metrics_df, x='Valor', y='Modelo', hue='Métrica')\n",
        "plt.title('Comparação: Quão Bons São Nossos Modelos?')\n",
        "plt.xlabel('Pontuação (mais perto de 1 = melhor)')\n",
        "plt.tight_layout()\n",
        "plt.show()\n"
      ],
      "metadata": {
        "colab": {
          "base_uri": "https://localhost:8080/",
          "height": 842
        },
        "id": "xoWCoRG8o-X2",
        "outputId": "79e6b217-6436-4030-ed97-505f73d75907"
      },
      "execution_count": null,
      "outputs": [
        {
          "output_type": "stream",
          "name": "stdout",
          "text": [
            "\n",
            "CRIANDO UM GRÁFICO PARA VER MELHOR\n"
          ]
        },
        {
          "output_type": "display_data",
          "data": {
            "text/plain": [
              "<Figure size 1200x800 with 1 Axes>"
            ],
            "image/png": "[encoded data removed]"
          },
          "metadata": {}
        }
      ]
    },
    {
      "cell_type": "code",
      "source": [
        "#ANALISANDO OS 3 MELHORES MODELOS EM DETALHE\n",
        "top_models = comparison_df.head(3)['Modelo'].tolist()\n",
        "\n",
        "for model_name in top_models:\n",
        "    print(f\"\\nANALISANDO O {model_name}:\")\n",
        "\n",
        "    # Relatório detalhado\n",
        "    print(f\"\\nRELATÓRIO DETALHADO:\")\n",
        "    print(classification_report(y_teste, resultados[model_name]['previsoes'],\n",
        "                              target_names=['Benigno', 'Maligno']))\n",
        "\n",
        "    # Matriz de confusão\n",
        "    mostrar_matriz_confusao(y_teste, resultados[model_name]['previsoes'], model_name)\n"
      ],
      "metadata": {
        "colab": {
          "base_uri": "https://localhost:8080/",
          "height": 1000
        },
        "id": "e7FeElNcpJFB",
        "outputId": "c9e53f2e-5dfa-46ee-891e-8581d9df0ebb"
      },
      "execution_count": null,
      "outputs": [
        {
          "output_type": "stream",
          "name": "stdout",
          "text": [
            "\n",
            "ANALISANDO O LDA:\n",
            "\n",
            "RELATÓRIO DETALHADO:\n",
            "              precision    recall  f1-score   support\n",
            "\n",
            "     Benigno       0.96      1.00      0.98       107\n",
            "     Maligno       1.00      0.94      0.97        64\n",
            "\n",
            "    accuracy                           0.98       171\n",
            "   macro avg       0.98      0.97      0.97       171\n",
            "weighted avg       0.98      0.98      0.98       171\n",
            "\n"
          ]
        },
        {
          "output_type": "display_data",
          "data": {
            "text/plain": [
              "<Figure size 600x500 with 2 Axes>"
            ],
            "image/png": "[encoded data removed]"
          },
          "metadata": {}
        },
        {
          "output_type": "stream",
          "name": "stdout",
          "text": [
            "\n",
            "    LDA - O QUE SIGNIFICAM ESSES NÚMEROS:\n",
            "    \n",
            "    ACERTOS:\n",
            "    • 107 vezes disse BENIGNO e era BENIGNO mesmo\n",
            "    • 60 vezes disse MALIGNO e era MALIGNO mesmo\n",
            "    \n",
            "    ERROS:\n",
            "    • 0 vezes disse MALIGNO mas era BENIGNO (Falso Alarme)\n",
            "    • 4 vezes disse BENIGNO mas era MALIGNO (ERRO GRAVE!)\n",
            "    \n",
            "    NO CONTEXTO MÉDICO:\n",
            "    • Falsos Alarmes (0): Paciente se assusta sem necessidade\n",
            "    • Erros Graves (4): Paciente com câncer pode não ser tratado a tempo\n",
            "    \n",
            "\n",
            "ANALISANDO O Regressão Logística:\n",
            "\n",
            "RELATÓRIO DETALHADO:\n",
            "              precision    recall  f1-score   support\n",
            "\n",
            "     Benigno       0.96      0.99      0.98       107\n",
            "     Maligno       0.98      0.94      0.96        64\n",
            "\n",
            "    accuracy                           0.97       171\n",
            "   macro avg       0.97      0.96      0.97       171\n",
            "weighted avg       0.97      0.97      0.97       171\n",
            "\n"
          ]
        },
        {
          "output_type": "display_data",
          "data": {
            "text/plain": [
              "<Figure size 600x500 with 2 Axes>"
            ],
            "image/png": "[encoded data removed]"
          },
          "metadata": {}
        },
        {
          "output_type": "stream",
          "name": "stdout",
          "text": [
            "\n",
            "    Regressão Logística - O QUE SIGNIFICAM ESSES NÚMEROS:\n",
            "    \n",
            "    ACERTOS:\n",
            "    • 106 vezes disse BENIGNO e era BENIGNO mesmo\n",
            "    • 60 vezes disse MALIGNO e era MALIGNO mesmo\n",
            "    \n",
            "    ERROS:\n",
            "    • 1 vezes disse MALIGNO mas era BENIGNO (Falso Alarme)\n",
            "    • 4 vezes disse BENIGNO mas era MALIGNO (ERRO GRAVE!)\n",
            "    \n",
            "    NO CONTEXTO MÉDICO:\n",
            "    • Falsos Alarmes (1): Paciente se assusta sem necessidade\n",
            "    • Erros Graves (4): Paciente com câncer pode não ser tratado a tempo\n",
            "    \n",
            "\n",
            "ANALISANDO O KNN:\n",
            "\n",
            "RELATÓRIO DETALHADO:\n",
            "              precision    recall  f1-score   support\n",
            "\n",
            "     Benigno       0.95      1.00      0.97       107\n",
            "     Maligno       1.00      0.91      0.95        64\n",
            "\n",
            "    accuracy                           0.96       171\n",
            "   macro avg       0.97      0.95      0.96       171\n",
            "weighted avg       0.97      0.96      0.96       171\n",
            "\n"
          ]
        },
        {
          "output_type": "display_data",
          "data": {
            "text/plain": [
              "<Figure size 600x500 with 2 Axes>"
            ],
            "image/png": "[encoded data removed]"
          },
          "metadata": {}
        },
        {
          "output_type": "stream",
          "name": "stdout",
          "text": [
            "\n",
            "    KNN - O QUE SIGNIFICAM ESSES NÚMEROS:\n",
            "    \n",
            "    ACERTOS:\n",
            "    • 107 vezes disse BENIGNO e era BENIGNO mesmo\n",
            "    • 58 vezes disse MALIGNO e era MALIGNO mesmo\n",
            "    \n",
            "    ERROS:\n",
            "    • 0 vezes disse MALIGNO mas era BENIGNO (Falso Alarme)\n",
            "    • 6 vezes disse BENIGNO mas era MALIGNO (ERRO GRAVE!)\n",
            "    \n",
            "    NO CONTEXTO MÉDICO:\n",
            "    • Falsos Alarmes (0): Paciente se assusta sem necessidade\n",
            "    • Erros Graves (6): Paciente com câncer pode não ser tratado a tempo\n",
            "    \n"
          ]
        }
      ]
    },
    {
      "cell_type": "code",
      "source": [
        "# Identificação do melhor modelo\n",
        "melhor_modelo_nome = comparison_df.iloc[0]['Modelo']\n",
        "melhor_modelo = results[melhor_modelo_nome]['model']\n",
        "melhor_acuracia = results[melhor_modelo_nome]['accuracy']\n",
        "\n",
        "print(f\"O melhor modelo é: {melhor_modelo_nome}!\")\n",
        "\n",
        "print(f\"\"\"\n",
        "ESTATÍSTICAS DO MELHOR MODELO:\n",
        "• Acurácia: {melhor_acuracia:.1%} - Acerta {melhor_acuracia*100:.0f} em cada 100 pacientes\n",
        "• Precisão: {results[melhor_modelo_nome]['precision']:.1%} - Quando diz \"câncer\", está quase sempre certo\n",
        "• Recall: {results[melhor_modelo_nome]['recall']:.1%} - Encontra a maioria dos casos de câncer\n",
        "• F1-Score: {results[melhor_modelo_nome]['f1']:.1%} - Excelente equilíbrio geral\n",
        "\"\"\")"
      ],
      "metadata": {
        "colab": {
          "base_uri": "https://localhost:8080/"
        },
        "id": "Gd26sI20pPu6",
        "outputId": "50378ea5-c600-40c4-d4cc-0849eac59df3"
      },
      "execution_count": null,
      "outputs": [
        {
          "output_type": "stream",
          "name": "stdout",
          "text": [
            "O melhor modelo é: LDA!\n",
            "\n",
            "ESTATÍSTICAS DO MELHOR MODELO:\n",
            "• Acurácia: 97.7% - Acerta 98 em cada 100 pacientes\n",
            "• Precisão: 100.0% - Quando diz \"câncer\", está quase sempre certo\n",
            "• Recall: 93.8% - Encontra a maioria dos casos de câncer\n",
            "• F1-Score: 96.8% - Excelente equilíbrio geral\n",
            "\n"
          ]
        }
      ]
    },
    {
      "cell_type": "markdown",
      "source": [
        "##Interpretação dos Resultados"
      ],
      "metadata": {
        "id": "NheC_ZQHpXvb"
      }
    },
    {
      "cell_type": "code",
      "source": [
        "print(\"POR QUE ESCOLHEMOS ESTE MODELO?\")\n",
        "print(f\"\"\"\n",
        "1.  **MAIS PRECISO**: {melhor_acuracia:.1%} de acerto total é EXCELENTE!\n",
        "   → Em 100 pacientes, erra apenas {100 - melhor_acuracia*100:.0f}\n",
        "\n",
        "2. **BEM EQUILIBRADO**: Tem boas notas em TODAS as métricas\n",
        "   → Não é só \"acertar muito\", é acertar nos momentos certos\n",
        "\n",
        "3. **CONFIAVEL**: Na validação cruzada, manteve a performance\n",
        "   → Não foi \"sorte\" - é consistente!\n",
        "\n",
        "4. **ADEQUADO PARA MEDICINA**: Erra POUCO nos casos graves\n",
        "   → Prefere dar \"falso alarme\" do que deixar câncer passar\n",
        "\"\"\")"
      ],
      "metadata": {
        "colab": {
          "base_uri": "https://localhost:8080/"
        },
        "id": "YOYCgFQupcUO",
        "outputId": "98b49414-8b01-4240-f918-884f09af379e"
      },
      "execution_count": null,
      "outputs": [
        {
          "output_type": "stream",
          "name": "stdout",
          "text": [
            "POR QUE ESCOLHEMOS ESTE MODELO?\n",
            "\n",
            "1.  **MAIS PRECISO**: 97.7% de acerto total é EXCELENTE!\n",
            "   → Em 100 pacientes, erra apenas 2\n",
            "\n",
            "2. **BEM EQUILIBRADO**: Tem boas notas em TODAS as métricas\n",
            "   → Não é só \"acertar muito\", é acertar nos momentos certos\n",
            "\n",
            "3. **CONFIAVEL**: Na validação cruzada, manteve a performance\n",
            "   → Não foi \"sorte\" - é consistente!\n",
            "\n",
            "4. **ADEQUADO PARA MEDICINA**: Erra POUCO nos casos graves\n",
            "   → Prefere dar \"falso alarme\" do que deixar câncer passar\n",
            "\n"
          ]
        }
      ]
    },
    {
      "cell_type": "code",
      "source": [
        "#ENTENDENDO O QUE O MODELO CONSIDERA IMPORTANTE\n",
        "if hasattr(melhor_modelo, 'feature_importances_'):\n",
        "    print(f\"\\n VAMOS VER O QUE O {melhor_modelo_nome} CONSIDERA IMPORTANTE:\")\n",
        "\n",
        "    importancia = pd.DataFrame({\n",
        "        'caracteristica': X.columns,\n",
        "        'importancia': melhor_modelo.feature_importances_\n",
        "    }).sort_values('importancia', ascending=False)\n",
        "\n",
        "    plt.figure(figsize=(10, 8))\n",
        "    sns.barplot(data=importancia.head(10), x='importancia', y='caracteristica')\n",
        "    plt.title(f'O Que Mais Importa para o {melhor_modelo_nome}?')\n",
        "    plt.xlabel('Importância (maior = mais importante)')\n",
        "    plt.tight_layout()\n",
        "    plt.show()\n",
        "\n",
        "    print(\"TOP 5 CARACTERÍSTICAS MAIS IMPORTANTES:\")\n",
        "    for i, linha in importancia.head().iterrows():\n",
        "        print(f\"   {i+1}. {linha['caracteristica']}: {linha['importancia']:.3f}\")\n",
        "\n",
        "    print(\"\"\"\n",
        "    O QUE ISSO SIGNIFICA?\n",
        "    • O modelo \"aprendeu\" que certas medidas são mais decisivas\n",
        "    • Características de \"pior\" (worst) são as mais importantes\n",
        "    • Isso faz sentido médico - os piores aspectos indicam gravidade\n",
        "    \"\"\")"
      ],
      "metadata": {
        "id": "y5i1wkldphTM"
      },
      "execution_count": null,
      "outputs": []
    },
    {
      "cell_type": "code",
      "source": [
        "# ANALISANDO OS ERROS DO MODELO\n",
        "previsoes_melhor = results[melhor_modelo_nome]['predictions']\n",
        "erros = X_test[y_test != previsoes_melhor].copy()\n",
        "erros['diagnostico_real'] = y_test[y_test != previsoes_melhor]\n",
        "erros['diagnostico_previsto'] = previsoes_melhor[y_test != previsoes_melhor]\n",
        "\n",
        "print(f\"Total de erros: {len(erros)} em {len(y_test)} pacientes\")\n",
        "print(f\"Taxa de erro: {len(erros)/len(y_test):.1%}\")\n",
        "\n",
        "if len(erros) > 0:\n",
        "    print(\"\\nDISTRIBUIÇÃO DOS ERROS:\")\n",
        "    analise_erros = erros.groupby(['diagnostico_real', 'diagnostico_previsto']).size()\n",
        "    print(analise_erros)\n",
        "\n",
        "    print(\"\"\"\n",
        "    ANALISANDO OS PADRÕES DE ERRO:\n",
        "    • Se há mais erros do tipo (1→0): Modelo está \"sub-diagnosticando\" câncer\n",
        "    • Se há mais erros do tipo (0→1): Modelo está sendo \"muito cauteloso\"\n",
        "    • Ambos são importantes de entender para melhorias futuras\n",
        "    \"\"\")\n"
      ],
      "metadata": {
        "colab": {
          "base_uri": "https://localhost:8080/"
        },
        "id": "yL4etjvCpmB4",
        "outputId": "8f78d324-2865-4c9b-bdb3-0f1cce979ee1"
      },
      "execution_count": null,
      "outputs": [
        {
          "output_type": "stream",
          "name": "stdout",
          "text": [
            "Total de erros: 4 em 171 pacientes\n",
            "Taxa de erro: 2.3%\n",
            "\n",
            "DISTRIBUIÇÃO DOS ERROS:\n",
            "diagnostico_real  diagnostico_previsto\n",
            "1                 0                       4\n",
            "dtype: int64\n",
            "\n",
            "    ANALISANDO OS PADRÕES DE ERRO:\n",
            "    • Se há mais erros do tipo (1→0): Modelo está \"sub-diagnosticando\" câncer\n",
            "    • Se há mais erros do tipo (0→1): Modelo está sendo \"muito cauteloso\"\n",
            "    • Ambos são importantes de entender para melhorias futuras\n",
            "    \n"
          ]
        }
      ]
    },
    {
      "cell_type": "markdown",
      "source": [
        "##Conclusão"
      ],
      "metadata": {
        "id": "_IP1Z9jrpo_U"
      }
    },
    {
      "cell_type": "markdown",
      "source": [
        "### PRINCIPAIS RESULTADOS:\n",
        "\n",
        "- **NA PRÁTICA:** Em 1000 pacientes, ajudaria em muitos diagnósticos\n",
        "- **EQUILÍBRIO:** Modelo é bom tanto para evitar alarmes falsos quanto para encontrar câncer\n",
        "- **INTELIGÊNCIA:** O modelo \"entende\" quais características são realmente importantes\n",
        "\n",
        "### APRENDIZADOS IMPORTANTES:\n",
        "\n",
        "- **DADOS BONS = MODELOS BONS**\n",
        "  - Dados médicos de qualidade permitem modelos precisos\n",
        "  - Limpeza e preparação são METADE do trabalho\n",
        "\n",
        "- **ENSEMBLE VENCE**\n",
        "  - Modelos que combinam várias \"opiniões\" (como Random Forest) são melhores\n",
        "  - É como ter uma equipe médica em vez de um único médico\n",
        "\n",
        "- **CONTEXTO É TUDO**\n",
        "  - Em medicina, alguns erros são mais graves que outros\n",
        "  - Preferimos \"falso alarme\" a \"deixar câncer passar\"\n",
        "\n",
        "- **BALANCEAMENTO CONSCIENTE**\n",
        "  - Estratificação garante que treinamos com casos variados\n",
        "  - Modelo aprende a reconhecer diferentes tipos de tumores\n",
        "\n",
        "### MELHORIAS PARA O FUTURO:\n",
        "\n",
        "1. **AFINAÇÃO FINA:** Ajustar melhor os \"botões\" do modelo\n",
        "2. **MAIS EXPLICAÇÕES:** Entender POR QUE o modelo toma cada decisão\n",
        "3. **MAIS DADOS:** Testar com pacientes de outros hospitais\n",
        "\n",
        "\n",
        "### LIMITAÇÕES IMPORTANTES:\n",
        "\n",
        "- **FERRAMENTA, NÃO SUBSTITUTO**\n",
        "  - A decisão final SEMPRE deve ser do médico\n",
        "  - O modelo é uma ajuda, não uma substituição\n",
        "\n",
        "- **DADOS LIMITADOS**\n",
        "  - Precisamos de mais diversidade de casos\n",
        "  - Diferentes populações, equipamentos, etc.\n",
        "\n",
        "- **ATUALIZAÇÃO CONSTANTE**\n",
        "  - Medicina evolui, o modelo precisa evoluir também\n",
        "  - Novas técnicas, novos tipos de tumores\n",
        "\n",
        "### RESUMO:\n",
        "\n",
        "- **MODELO CAMPEÃO:** LDA\n",
        "- **PRECISÃO:** 97.7%\n",
        "- **APLICAÇÃO:** Auxílio ao diagnóstico de câncer de mama"
      ],
      "metadata": {
        "id": "ZHZNZSGF3H4t"
      }
    }
  ]
}